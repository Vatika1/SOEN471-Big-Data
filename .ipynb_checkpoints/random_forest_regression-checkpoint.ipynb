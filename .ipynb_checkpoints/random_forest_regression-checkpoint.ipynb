{
 "cells": [
  {
   "cell_type": "code",
   "execution_count": 1,
   "id": "interested-education",
   "metadata": {},
   "outputs": [],
   "source": [
    "import os\n",
    "import sys\n",
    "import copy\n",
    "import time\n",
    "import random\n",
    "import pyspark\n",
    "from statistics import mean\n",
    "from pyspark.rdd import RDD\n",
    "from pyspark.sql import Row\n",
    "from pyspark.sql import DataFrame\n",
    "from pyspark.sql import SparkSession\n",
    "from sklearn.datasets import *\n",
    "from sklearn.metrics import accuracy_score\n",
    "from sklearn.metrics import precision_score\n",
    "from sklearn.metrics import confusion_matrix\n",
    "from sklearn.metrics import recall_score\n",
    "from sklearn.metrics import f1_score\n",
    "from pyspark.ml import Pipeline\n",
    "from pyspark.ml.classification import RandomForestClassifier\n",
    "from pyspark.ml.feature import IndexToString, StringIndexer, VectorIndexer\n",
    "from pyspark.ml.evaluation import MulticlassClassificationEvaluator\n",
    "from pyspark.ml.feature import StringIndexer\n",
    "from pyspark import SparkContext\n",
    "#for cross validation\n",
    "from sklearn.model_selection import cross_validate\n",
    "from pyspark.ml.evaluation import RegressionEvaluator\n",
    "from pyspark.ml.feature import CountVectorizer\n",
    "from pyspark.ml.regression import RandomForestRegressor\n",
    "from pyspark.sql import functions as F"
   ]
  },
  {
   "cell_type": "code",
   "execution_count": 2,
   "id": "photographic-twist",
   "metadata": {},
   "outputs": [],
   "source": [
    "def init_spark():\n",
    "    spark = SparkSession \\\n",
    "        .builder \\\n",
    "        .appName(\"Python Spark SQL basic example\") \\\n",
    "        .config(\"spark.some.config.option\", \"some-value\") \\\n",
    "        .getOrCreate()\n",
    "    return spark"
   ]
  },
  {
   "cell_type": "code",
   "execution_count": 3,
   "id": "sound-somalia",
   "metadata": {},
   "outputs": [
    {
     "name": "stdout",
     "output_type": "stream",
     "text": [
      "Total rows before data preprocessing :  50418\n",
      "Sample Data before data preprocessing : \n",
      "+----+-----------+----------+-----+---+---+---+----------+-----------+\n",
      "|code|    country|      date|  HDI| TC| TD|STI|       POP|      label|\n",
      "+----+-----------+----------+-----+---+---+---+----------+-----------+\n",
      "| AFG|Afghanistan|31-12-2019|0.498|0.0|0.0|0.0|17.4772331|7.497754494|\n",
      "| AFG|Afghanistan|01-01-2020|0.498|0.0|0.0|0.0|17.4772331|7.497754494|\n",
      "| AFG|Afghanistan|02-01-2020|0.498|0.0|0.0|0.0|17.4772331|7.497754494|\n",
      "| AFG|Afghanistan|03-01-2020|0.498|0.0|0.0|0.0|17.4772331|7.497754494|\n",
      "| AFG|Afghanistan|04-01-2020|0.498|0.0|0.0|0.0|17.4772331|7.497754494|\n",
      "| AFG|Afghanistan|05-01-2020|0.498|0.0|0.0|0.0|17.4772331|7.497754494|\n",
      "| AFG|Afghanistan|06-01-2020|0.498|0.0|0.0|0.0|17.4772331|7.497754494|\n",
      "+----+-----------+----------+-----+---+---+---+----------+-----------+\n",
      "only showing top 7 rows\n",
      "\n",
      "Total rows after data preprocessing :  31485\n",
      "Sample Data after data preprocessing : \n",
      "+-----+-----------+-----------+-----------+-----------+-----------+-------------+\n",
      "|  HDI|         TC|         TD|        STI|        POP|      label|country_index|\n",
      "+-----+-----------+-----------+-----------+-----------+-----------+-------------+\n",
      "|0.785|6.620073207|3.401197382|4.497696328|14.87253667|9.376145531|         90.0|\n",
      "|0.785|9.476160198| 5.92157842|3.773220603|14.87253667|9.376145531|         90.0|\n",
      "|0.754|10.71792273|7.329749689|4.329811863|17.59630906|9.540639235|          1.0|\n",
      "|0.754|10.77377623|7.377133713|4.329811863|17.59630906|9.540639235|          1.0|\n",
      "|0.754|10.81629222|7.421775794|4.329811863|17.59630906|9.540639235|          1.0|\n",
      "|0.825|13.71427154|10.09352923|        0.0|17.62651421|9.848709615|         67.0|\n",
      "|0.757|10.22270463|5.869296913|4.567468319|16.13191719|9.670761927|          5.0|\n",
      "+-----+-----------+-----------+-----------+-----------+-----------+-------------+\n",
      "only showing top 7 rows\n",
      "\n"
     ]
    }
   ],
   "source": [
    "spark = init_spark()\n",
    "import csv\n",
    "from csv import reader\n",
    "from array import array\n",
    "filename = \"./transformed_data.csv/transformed_data.csv\"\n",
    "import pyspark.sql.types as tp\n",
    "myschema = tp.StructType([\n",
    "    tp.StructField(name = \"code\"  , dataType = tp.StringType(), nullable = True),\n",
    "    tp.StructField(name = \"country\"  , dataType = tp.StringType(), nullable = True),\n",
    "    tp.StructField(name = \"date\"  , dataType = tp.StringType(), nullable = True),\n",
    "    tp.StructField(name = \"HDI\"  , dataType = tp.DoubleType(), nullable = True),\n",
    "    tp.StructField(name = \"TC\"  , dataType = tp.DoubleType(), nullable = True),\n",
    "    tp.StructField(name = \"TD\"  , dataType = tp.DoubleType(), nullable = True),\n",
    "    tp.StructField(name = \"STI\"  , dataType = tp.DoubleType(), nullable = True),\n",
    "    tp.StructField(name = \"POP\"  , dataType = tp.DoubleType(), nullable = True),\n",
    "    tp.StructField(name = \"label\"  , dataType = tp.DoubleType(), nullable = True) #label is the gdp\n",
    "])\n",
    "dataDF = spark.read.csv(filename, header=True,schema=myschema )\n",
    "print(\"Total rows before data preprocessing : \", dataDF.count())\n",
    "\n",
    "print(\"Sample Data before data preprocessing : \")\n",
    "dataDF.show(7)\n",
    "\n",
    "# create object of StringIndexer class and specify input and output column\n",
    "country_obj = StringIndexer(inputCol='country',outputCol='country_index')\n",
    "\n",
    "# transform the data\n",
    "dataDF = dataDF.filter(dataDF[\"HDI\"]!=0).filter(dataDF[\"POP\"]!=0).filter(dataDF[\"label\"]!=0)\n",
    "dataDF = country_obj.fit(dataDF).transform(dataDF)\n",
    "dataDF = dataDF.drop(\"country\",\"code\",\"date\")\n",
    "dataDF = dataDF.distinct()\n",
    "\n",
    "# view the transformed data\n",
    "print(\"Total rows after data preprocessing : \",dataDF.count())\n",
    "print(\"Sample Data after data preprocessing : \")\n",
    "dataDF.show(7)\n"
   ]
  },
  {
   "cell_type": "code",
   "execution_count": 4,
   "id": "automated-wealth",
   "metadata": {},
   "outputs": [],
   "source": [
    "\n",
    "\n",
    "df = dataDF\n",
    "from pyspark.ml.feature import VectorAssembler\n",
    "feature_list = []\n",
    "for col in df.columns:\n",
    "    if col == 'label':\n",
    "        continue\n",
    "    else:\n",
    "        feature_list.append(col)\n",
    "assembler = VectorAssembler(inputCols=feature_list, outputCol=\"features\").setHandleInvalid(\"skip\")\n",
    "\n",
    "rf = RandomForestRegressor(labelCol=\"label\", featuresCol=\"features\", maxBins= 210)\n",
    "        \n",
    "from pyspark.ml import Pipeline\n",
    "pipeline = Pipeline(stages=[assembler, rf])\n",
    "\n",
    "from pyspark.ml.tuning import ParamGridBuilder\n",
    "import numpy as np\n",
    "paramGrid = ParamGridBuilder() \\\n",
    "    .addGrid(rf.numTrees, [int(x) for x in np.linspace(start = 15, stop = 30, num = 3)]) \\\n",
    "    .addGrid(rf.maxDepth, [int(x) for x in np.linspace(start = 5, stop = 15, num = 3)]) \\\n",
    "    .build()\n",
    "\n",
    "from pyspark.ml.tuning import CrossValidator\n",
    "##crossvalidation for hyperparemeter tuning\n",
    "crossval = CrossValidator(estimator=pipeline,\n",
    "                          estimatorParamMaps=paramGrid,\n",
    "                          evaluator=RegressionEvaluator(),\n",
    "                          numFolds=3)\n",
    "\n",
    "\n",
    "(trainingData, testData) = df.randomSplit([0.8, 0.2])\n",
    "\n",
    "#cvModel = pipeline.fit(trainingData)\n",
    "cvModel = crossval.fit(trainingData)\n",
    "predictions = cvModel.transform(testData)"
   ]
  },
  {
   "cell_type": "code",
   "execution_count": 5,
   "id": "centered-powell",
   "metadata": {},
   "outputs": [
    {
     "name": "stdout",
     "output_type": "stream",
     "text": [
      "Root-mean-square error = 0.014442395683858156\n"
     ]
    }
   ],
   "source": [
    "evaluator = RegressionEvaluator(metricName=\"rmse\", labelCol=\"label\",predictionCol=\"prediction\")\n",
    "rmse = evaluator.evaluate(predictions)\n",
    "print(\"Root-mean-square error = \" + str(rmse))"
   ]
  },
  {
   "cell_type": "code",
   "execution_count": 6,
   "id": "traditional-diabetes",
   "metadata": {
    "scrolled": true
   },
   "outputs": [
    {
     "name": "stdout",
     "output_type": "stream",
     "text": [
      "Mean Squared Error  = 0.00020858279308912472\n"
     ]
    }
   ],
   "source": [
    "#mse Mean Squared Error \n",
    "evaluator = RegressionEvaluator(metricName=\"mse\", labelCol=\"label\",predictionCol=\"prediction\")\n",
    "mse = evaluator.evaluate(predictions)\n",
    "print(\"Mean Squared Error  = \" + str(mse))"
   ]
  },
  {
   "cell_type": "code",
   "execution_count": 7,
   "id": "induced-combat",
   "metadata": {},
   "outputs": [
    {
     "name": "stdout",
     "output_type": "stream",
     "text": [
      "+------------------+-----------+--------------------+\n",
      "|        prediction|      label|            features|\n",
      "+------------------+-----------+--------------------+\n",
      "|6.5542538650000015|6.554253865|[0.417,5.25227342...|\n",
      "|       6.623783648|6.623783648|[0.435,5.13579843...|\n",
      "|7.2992208489999975|7.299220849|[0.452,4.46590811...|\n",
      "|7.2992208489999975|7.299220849|[0.452,7.16239749...|\n",
      "| 7.525082599183223|7.525214548|[0.524,5.60211882...|\n",
      "+------------------+-----------+--------------------+\n",
      "only showing top 5 rows\n",
      "\n"
     ]
    }
   ],
   "source": [
    "predictions.select(\"prediction\", \"label\", \"features\").show(5)"
   ]
  },
  {
   "cell_type": "code",
   "execution_count": 8,
   "id": "promising-wholesale",
   "metadata": {},
   "outputs": [
    {
     "data": {
      "image/png": "[encoded data removed]",
      "text/plain": [
       "<Figure size 432x288 with 1 Axes>"
      ]
     },
     "metadata": {
      "needs_background": "light"
     },
     "output_type": "display_data"
    }
   ],
   "source": [
    "#for plotting graph\n",
    "import matplotlib.pyplot as plt\n",
    "rfPred = cvModel.transform(df)\n",
    "rfResult = rfPred.toPandas()\n",
    "plt.plot(rfResult.label, rfResult.prediction, 'bo')\n",
    "plt.xlabel('GDP')\n",
    "plt.ylabel('Prediction')\n",
    "plt.suptitle(\"Model Performance : Random Forest\")\n",
    "plt.show()"
   ]
  },
  {
   "cell_type": "code",
   "execution_count": null,
   "id": "destroyed-violence",
   "metadata": {},
   "outputs": [],
   "source": []
  }
 ],
 "metadata": {
  "kernelspec": {
   "display_name": "Python(bigdata)",
   "language": "python",
   "name": "bigdata-lab"
  },
  "language_info": {
   "codemirror_mode": {
    "name": "ipython",
    "version": 3
   },
   "file_extension": ".py",
   "mimetype": "text/x-python",
   "name": "python",
   "nbconvert_exporter": "python",
   "pygments_lexer": "ipython3",
   "version": "3.6.12"
  }
 },
 "nbformat": 4,
 "nbformat_minor": 5
}
